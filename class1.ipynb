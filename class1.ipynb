{
 "cells": [
  {
   "cell_type": "code",
   "execution_count": 2,
   "metadata": {},
   "outputs": [
    {
     "name": "stdout",
     "output_type": "stream",
     "text": [
      "Hello Class\n"
     ]
    }
   ],
   "source": [
    "print(\"Hello Class\")"
   ]
  },
  {
   "cell_type": "code",
   "execution_count": 3,
   "metadata": {},
   "outputs": [
    {
     "name": "stdout",
     "output_type": "stream",
     "text": [
      "string\n",
      "string\n",
      "string\n",
      "string\n"
     ]
    }
   ],
   "source": [
    "string1 = 'string'\n",
    "string2 = \"string\"\n",
    "string3 = '''string'''\n",
    "string4 = \"\"\"string\"\"\"\n",
    "\n",
    "print(string1)\n",
    "print(string2)\n",
    "print(string3)\n",
    "print(string4)"
   ]
  },
  {
   "cell_type": "code",
   "execution_count": 20,
   "metadata": {},
   "outputs": [
    {
     "name": "stdout",
     "output_type": "stream",
     "text": [
      "Aello Class\n"
     ]
    }
   ],
   "source": [
    "string = 'aello Class'\n",
    "print(string.title())"
   ]
  },
  {
   "cell_type": "code",
   "execution_count": 7,
   "metadata": {},
   "outputs": [
    {
     "name": "stdout",
     "output_type": "stream",
     "text": [
      "AELLO CLASS\n"
     ]
    }
   ],
   "source": [
    "string = 'aello Class'\n",
    "print(string.upper())"
   ]
  },
  {
   "cell_type": "code",
   "execution_count": 9,
   "metadata": {},
   "outputs": [
    {
     "name": "stdout",
     "output_type": "stream",
     "text": [
      "aello class\n"
     ]
    }
   ],
   "source": [
    "string = 'aello Class'\n",
    "print(string.lower())"
   ]
  },
  {
   "cell_type": "code",
   "execution_count": 13,
   "metadata": {},
   "outputs": [
    {
     "name": "stdout",
     "output_type": "stream",
     "text": [
      "10 * 1 = 10\n",
      "10 * 2 = 20\n",
      "10 * 3 = 30\n",
      "10 * 4 = 40\n",
      "10 * 5 = 50\n",
      "10 * 6 = 60\n",
      "10 * 7 = 70\n",
      "10 * 8 = 80\n",
      "10 * 9 = 90\n",
      "10 * 10 = 100\n"
     ]
    }
   ],
   "source": [
    "# string interpolation\n",
    "a = 10\n",
    "\"10 * 1 = 10\"\n",
    "\"10 * 2 = 20\"\n",
    "print(f\"{a} * 1 = {a * 1}\")\n",
    "print(f\"{a} * 2 = {a * 2}\")\n",
    "print(f\"{a} * 3 = {a * 3}\")\n",
    "print(f\"{a} * 4 = {a * 4}\")\n",
    "print(f\"{a} * 5 = {a * 5}\")\n",
    "print(f\"{a} * 6 = {a * 6}\")\n",
    "print(f\"{a} * 7 = {a * 7}\")\n",
    "print(f\"{a} * 8 = {a * 8}\")\n",
    "print(f\"{a} * 9 = {a * 9}\")\n",
    "print(f\"{a} * 10 = {a * 10}\")\n"
   ]
  },
  {
   "cell_type": "code",
   "execution_count": 24,
   "metadata": {},
   "outputs": [
    {
     "name": "stdout",
     "output_type": "stream",
     "text": [
      "my name is Rahul RAHUL\n",
      "my name is Rahul\n",
      "my name is Rahul RAHUL\n"
     ]
    }
   ],
   "source": [
    "name = input()\n",
    "print(f\"my name is {name.title()} {name.upper()}\")\n",
    "print(\"my name is\",  name.title())\n",
    "print(\"my name is {} {}\".format(name.title(), name.upper()))\n"
   ]
  },
  {
   "cell_type": "code",
   "execution_count": 27,
   "metadata": {},
   "outputs": [
    {
     "name": "stdout",
     "output_type": "stream",
     "text": [
      "Here is the \n",
      "Rahul\tBeniwal \n",
      "Vishnu\n"
     ]
    }
   ],
   "source": [
    "print(\"Here is the \\nRahul\\tBeniwal \\nVishnu\")"
   ]
  },
  {
   "cell_type": "code",
   "execution_count": 34,
   "metadata": {},
   "outputs": [
    {
     "name": "stdout",
     "output_type": "stream",
     "text": [
      "1\n",
      "python\n",
      "go\n"
     ]
    }
   ],
   "source": [
    "fav_language = 'C '\n",
    "second_most_fav = ' python '\n",
    "third_most_fav = ' go'\n",
    "print(len(fav_language.rstrip()))\n",
    "print(second_most_fav.strip())\n",
    "print(third_most_fav.lstrip())"
   ]
  },
  {
   "cell_type": "code",
   "execution_count": 45,
   "metadata": {},
   "outputs": [
    {
     "name": "stdout",
     "output_type": "stream",
     "text": [
      "String test user Choice\n"
     ]
    }
   ],
   "source": [
    "# string delimiter\n",
    "name = 'test user'\n",
    "b  = f\"String {name} Choice\"\n",
    "a = 5\n",
    "print(b)"
   ]
  },
  {
   "cell_type": "code",
   "execution_count": 51,
   "metadata": {},
   "outputs": [
    {
     "name": "stdout",
     "output_type": "stream",
     "text": [
      "user name is Rahul \n"
     ]
    }
   ],
   "source": [
    "# user name is \"UserName\"\n",
    "user_name = input()\n",
    "print(f'user name is {user_name} ')"
   ]
  }
 ],
 "metadata": {
  "interpreter": {
   "hash": "31f2aee4e71d21fbe5cf8b01ff0e069b9275f58929596ceb00d14d90e3e16cd6"
  },
  "kernelspec": {
   "display_name": "Python 3.9.7 64-bit",
   "language": "python",
   "name": "python3"
  },
  "language_info": {
   "codemirror_mode": {
    "name": "ipython",
    "version": 3
   },
   "file_extension": ".py",
   "mimetype": "text/x-python",
   "name": "python",
   "nbconvert_exporter": "python",
   "pygments_lexer": "ipython3",
   "version": "3.9.7"
  },
  "orig_nbformat": 4
 },
 "nbformat": 4,
 "nbformat_minor": 2
}
