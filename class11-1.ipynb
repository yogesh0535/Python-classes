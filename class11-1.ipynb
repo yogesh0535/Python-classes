{
 "cells": [
  {
   "cell_type": "code",
   "execution_count": null,
   "metadata": {},
   "outputs": [],
   "source": [
    "try:\n",
    "    a = int(input(\"a = \"))\n",
    "    b = int(input(\"b = \"))\n",
    "    a/b\n",
    "except Exception:\n",
    "    print(\"Cannot divide a number by 0 \")\n",
    "else:\n",
    "    print(\"No Exception was here\")\n",
    "\n",
    "\n",
    "print(\"Program is complete\")\n",
    "\n",
    "# except Exception:\n",
    "#     print(\"Cannot divide a number by 0 \")\n",
    "# finally:\n",
    "#     print(\"The End\")\n",
    "\n"
   ]
  },
  {
   "cell_type": "code",
   "execution_count": null,
   "metadata": {},
   "outputs": [],
   "source": [
    "try:\n",
    "    a = int(input(\"a = \"))\n",
    "    b = int(input(\"b = \"))\n",
    "    a / b\n",
    "\n",
    "except Exception:\n",
    "    print(\"Cannot divide a number by 0 \")\n",
    "else:\n",
    "    print(\"The End\")"
   ]
  },
  {
   "cell_type": "code",
   "execution_count": null,
   "metadata": {},
   "outputs": [],
   "source": [
    "for i in (1,2,3):\n",
    "    print(i)\n",
    "    if i == 2:\n",
    "        continue\n",
    "else:\n",
    "    print(\"OKKK\")"
   ]
  },
  {
   "cell_type": "code",
   "execution_count": null,
   "metadata": {},
   "outputs": [],
   "source": [
    "try:\n",
    "    l = [1,2]\n",
    "    l[2]\n",
    "except IndexError as e:\n",
    "    print(e)"
   ]
  },
  {
   "cell_type": "code",
   "execution_count": null,
   "metadata": {},
   "outputs": [],
   "source": [
    "bank_balance = int(input((\"Enter Account Balance\")))\n",
    "if bank_balance < 0:\n",
    "    raise Exception((\"Bank Balance should not be negative\"))"
   ]
  },
  {
   "cell_type": "code",
   "execution_count": null,
   "metadata": {},
   "outputs": [],
   "source": [
    "import math as mat \n",
    "mat.sqrt(100)"
   ]
  },
  {
   "cell_type": "markdown",
   "metadata": {},
   "source": [
    "### File modes\n",
    "- 'r' -> Read the and file must exist \n",
    "- 'w' -> override and existing file or will create new file if not exist\n",
    "- 'r+' -> read and write at same time and file must exist\n",
    "- 'rb' -> read in binary format \n",
    "- 'w+' -> read and write on same file but if file does not exist it will create new file \n",
    "- 'a' -> append after a file and file must exist \n",
    "- 'a+' -> appending and reading mode and it will create new file if does not exist \n",
    "- 'x' -> exclusive read mode file must exist \n",
    "- 'x+' -> exlusive read write will throw a error if file already exist \n",
    "    - exlusive use in python to preserve a file and not accidently delete it "
   ]
  },
  {
   "cell_type": "code",
   "execution_count": null,
   "metadata": {},
   "outputs": [],
   "source": [
    "file = open(\"test2.txt\", 'r')\n",
    "print(file.readlines())\n"
   ]
  },
  {
   "cell_type": "code",
   "execution_count": null,
   "metadata": {},
   "outputs": [],
   "source": [
    "try:\n",
    "    with open('test2.txt', 'r+') as f:\n",
    "        f.write(\"\\n Writing in file again 2\")\n",
    "        print(f.readlines())\n",
    "        f.write(\"\\n Writing in file again 3\")\n",
    "        print(f.readlines())\n",
    "\n",
    "except Exception as e:\n",
    "    print(e)"
   ]
  },
  {
   "cell_type": "code",
   "execution_count": null,
   "metadata": {},
   "outputs": [],
   "source": [
    "try:\n",
    "    with open('test2.txt', 'w+') as f:\n",
    "        f.write(\"\\n Writing in file again\")\n",
    "        print(f.readlines())\n",
    "except Exception as e:\n",
    "    print(e)"
   ]
  },
  {
   "cell_type": "code",
   "execution_count": 38,
   "metadata": {},
   "outputs": [],
   "source": [
    "try:\n",
    "    with open('Screenshot from 2022-02-22 21-56-07.png', 'wb') as f:\n",
    "        # print(f.readlines())\n",
    "        pass \n",
    "except Exception as e:\n",
    "    print(e)"
   ]
  },
  {
   "cell_type": "code",
   "execution_count": 44,
   "metadata": {},
   "outputs": [
    {
     "name": "stdout",
     "output_type": "stream",
     "text": [
      "[]\n"
     ]
    }
   ],
   "source": [
    "try:\n",
    "    with open('test21224.txt', 'a+') as f:\n",
    "        f.write(\"\\n Writing in file again\")\n",
    "        print(f.readlines())\n",
    "except Exception as e:\n",
    "    print(e)"
   ]
  },
  {
   "cell_type": "code",
   "execution_count": null,
   "metadata": {},
   "outputs": [],
   "source": []
  },
  {
   "cell_type": "code",
   "execution_count": null,
   "metadata": {},
   "outputs": [],
   "source": []
  },
  {
   "cell_type": "code",
   "execution_count": null,
   "metadata": {},
   "outputs": [],
   "source": []
  },
  {
   "cell_type": "code",
   "execution_count": null,
   "metadata": {},
   "outputs": [],
   "source": []
  },
  {
   "cell_type": "code",
   "execution_count": null,
   "metadata": {},
   "outputs": [],
   "source": []
  }
 ],
 "metadata": {
  "interpreter": {
   "hash": "31f2aee4e71d21fbe5cf8b01ff0e069b9275f58929596ceb00d14d90e3e16cd6"
  },
  "kernelspec": {
   "display_name": "Python 3.9.7 64-bit",
   "language": "python",
   "name": "python3"
  },
  "language_info": {
   "codemirror_mode": {
    "name": "ipython",
    "version": 3
   },
   "file_extension": ".py",
   "mimetype": "text/x-python",
   "name": "python",
   "nbconvert_exporter": "python",
   "pygments_lexer": "ipython3",
   "version": "3.9.7"
  },
  "orig_nbformat": 4
 },
 "nbformat": 4,
 "nbformat_minor": 2
}
