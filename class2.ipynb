{
 "cells": [
  {
   "cell_type": "code",
   "execution_count": 18,
   "metadata": {},
   "outputs": [
    {
     "name": "stdout",
     "output_type": "stream",
     "text": [
      "4\n",
      "-1\n",
      "4\n",
      "3.3333333333333335\n",
      "3\n",
      "0.1\n",
      "False\n",
      "0.30000000000000004\n",
      "0.30000000000000004\n",
      "1999999999999999999993333333\n"
     ]
    }
   ],
   "source": [
    "print(2 + 2)\n",
    "print(1 -2 )\n",
    "print(2 * 2 )\n",
    "print(10 / 3 ) # floating point division \n",
    "print(10 // 3) # integer division \n",
    "# print(13 % 10) # reminder \n",
    "# print(10 ** 2)\n",
    "print(.1)\n",
    "print(0.1 + 0.2 == 0.3)\n",
    "print(0.1+0.2)\n",
    "print(0.1 * 3)\n",
    "a = 19999_999_9999_9999_999_993_3333_33\n",
    "print(a)"
   ]
  },
  {
   "cell_type": "code",
   "execution_count": 22,
   "metadata": {},
   "outputs": [
    {
     "name": "stdout",
     "output_type": "stream",
     "text": [
      "10 20\n",
      "30\n"
     ]
    }
   ],
   "source": [
    "# Multiple Assignment \n",
    "a,b,c = 10, 20, 30\n",
    "print(a,b)\n",
    "print(c)\n"
   ]
  },
  {
   "cell_type": "code",
   "execution_count": 25,
   "metadata": {},
   "outputs": [
    {
     "name": "stdout",
     "output_type": "stream",
     "text": [
      "20\n",
      "10\n"
     ]
    }
   ],
   "source": [
    "a = 10\n",
    "b = 20\n",
    "\n",
    "a,b = b,a\n",
    "\n",
    "print(a)\n",
    "print(b)"
   ]
  },
  {
   "cell_type": "code",
   "execution_count": 28,
   "metadata": {},
   "outputs": [
    {
     "name": "stdout",
     "output_type": "stream",
     "text": [
      "3000000.0\n"
     ]
    }
   ],
   "source": [
    "SPEED_OF_LIGHT = 3e6 # 3 * 10 ** 6 \n",
    "print(SPEED_OF_LIGHT)"
   ]
  },
  {
   "cell_type": "code",
   "execution_count": 36,
   "metadata": {},
   "outputs": [
    {
     "name": "stdout",
     "output_type": "stream",
     "text": [
      "(1+3j)\n",
      "(-1+0j)\n"
     ]
    }
   ],
   "source": [
    "pow(2, 3, 6)\n",
    "print(3j + 1)\n",
    "print( 1j* 1j)"
   ]
  },
  {
   "cell_type": "code",
   "execution_count": 44,
   "metadata": {},
   "outputs": [
    {
     "name": "stdout",
     "output_type": "stream",
     "text": [
      "[1, 2, 1.2, 'tring', 100]\n"
     ]
    }
   ],
   "source": [
    "# This is comment \n",
    "# homogeneous datatype -> same data type \n",
    "# hetrogenous \n",
    "a = [1,2, 1.2, \"tring\"]\n",
    "a.append(100)\n",
    "print(a)"
   ]
  },
  {
   "cell_type": "markdown",
   "metadata": {},
   "source": [
    "### Mutable -> size can be rearrange \n",
    "### immutable -> size cannot be reaarange \n"
   ]
  },
  {
   "cell_type": "code",
   "execution_count": 53,
   "metadata": {},
   "outputs": [
    {
     "name": "stdout",
     "output_type": "stream",
     "text": [
      "[1, 2, 1.2, 'tring', 100, 1000, 1000, 1000]\n",
      "[1, 2, 1.2, 'tring', 100, 1000, 1000]\n"
     ]
    }
   ],
   "source": [
    "a.append(1000)\n",
    "print(a)\n",
    "a.pop()\n",
    "print(a)"
   ]
  },
  {
   "cell_type": "code",
   "execution_count": 64,
   "metadata": {},
   "outputs": [
    {
     "name": "stdout",
     "output_type": "stream",
     "text": [
      "12\n",
      "11\n",
      "10\n",
      "Stack is empty\n"
     ]
    }
   ],
   "source": [
    "# Last In First Out\n",
    "# Linked, Quene, Tree, Graph\n",
    "stack = []\n",
    "\n",
    "def push(a):\n",
    "    stack.append(a)\n",
    "\n",
    "def pop():\n",
    "    if not stack:\n",
    "        return \"Stack is empty\"\n",
    "    else:\n",
    "        return stack.pop()\n",
    "\n",
    "push(10)\n",
    "push(11)\n",
    "push(12)\n",
    "\n",
    "print(pop())\n",
    "print(pop())\n",
    "print(pop())\n",
    "print(pop())"
   ]
  },
  {
   "cell_type": "code",
   "execution_count": 60,
   "metadata": {},
   "outputs": [
    {
     "name": "stdout",
     "output_type": "stream",
     "text": [
      "15 is odd\n"
     ]
    }
   ],
   "source": [
    "a = 15\n",
    "if a % 2 == 0 : \n",
    "    print(f\"{a} is even\")\n",
    "else:\n",
    "    print(f\"{a} is odd\")"
   ]
  },
  {
   "cell_type": "code",
   "execution_count": 66,
   "metadata": {},
   "outputs": [
    {
     "data": {
      "text/plain": [
       "False"
      ]
     },
     "execution_count": 66,
     "metadata": {},
     "output_type": "execute_result"
    }
   ],
   "source": [
    "a = [1,2,2,3,4,5,65]\n",
    "len(a) == 0"
   ]
  },
  {
   "cell_type": "code",
   "execution_count": 86,
   "metadata": {},
   "outputs": [
    {
     "name": "stdout",
     "output_type": "stream",
     "text": [
      "[1, 2, 2, 3, 4, 5, 65]\n",
      "[2, 1]\n",
      "[2]\n",
      "[]\n"
     ]
    }
   ],
   "source": [
    "# slicing\n",
    "print(a)\n",
    "print(a[2::-2])\n",
    "print(a[2:1:-2])\n",
    "print(a[2:1:1])"
   ]
  },
  {
   "cell_type": "code",
   "execution_count": null,
   "metadata": {},
   "outputs": [],
   "source": []
  }
 ],
 "metadata": {
  "interpreter": {
   "hash": "916dbcbb3f70747c44a77c7bcd40155683ae19c65e1c03b4aa3499c5328201f1"
  },
  "kernelspec": {
   "display_name": "Python 3.9.7 64-bit",
   "language": "python",
   "name": "python3"
  },
  "language_info": {
   "codemirror_mode": {
    "name": "ipython",
    "version": 3
   },
   "file_extension": ".py",
   "mimetype": "text/x-python",
   "name": "python",
   "nbconvert_exporter": "python",
   "pygments_lexer": "ipython3",
   "version": "3.9.7"
  },
  "orig_nbformat": 4
 },
 "nbformat": 4,
 "nbformat_minor": 2
}
