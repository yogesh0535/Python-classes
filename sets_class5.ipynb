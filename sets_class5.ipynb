{
 "cells": [
  {
   "cell_type": "code",
   "execution_count": null,
   "metadata": {},
   "outputs": [],
   "source": [
    "import webbrowser\n",
    "webbrowser.open('https://www.facebook.com')\n",
    "webbrowser.open_new('https://www.facebook.com')"
   ]
  },
  {
   "cell_type": "code",
   "execution_count": null,
   "metadata": {},
   "outputs": [],
   "source": [
    "path = '/usr/bin/firefox'\n",
    "firefox = webbrowser.get(path)\n",
    "firefox.open('https://www.google.com')"
   ]
  },
  {
   "cell_type": "code",
   "execution_count": null,
   "metadata": {},
   "outputs": [],
   "source": [
    "d = {\n",
    "    \"key\" : \"value\"\n",
    "}\n",
    "d1 = dict(key=\"value\", rahul=\"beniwal\")\n",
    "d2 = dict([(\"key\", \"value\"), (\"rahul\", \"beniwal\")])\n",
    "d3 = dict([(\"key\", \"value\")], gaurav=\"kardam\")\n",
    "print(d1)\n",
    "print(d2)\n",
    "print(d3)"
   ]
  },
  {
   "cell_type": "code",
   "execution_count": null,
   "metadata": {},
   "outputs": [],
   "source": []
  },
  {
   "cell_type": "markdown",
   "metadata": {},
   "source": []
  },
  {
   "cell_type": "code",
   "execution_count": null,
   "metadata": {},
   "outputs": [],
   "source": [
    "d3.update({\"class\" : \"5\"})\n",
    "d3[\"semester\"] = \"7\"\n",
    "print(d3)"
   ]
  },
  {
   "cell_type": "code",
   "execution_count": null,
   "metadata": {},
   "outputs": [],
   "source": [
    "a = [1,2,3,4,5,6]\n",
    "l = []\n",
    "for i in a:\n",
    "    if i % 2 == 0:\n",
    "        pass \n",
    "    else:\n",
    "        l.append(i)\n",
    "print(l)\n",
    "\n",
    "l2 = [i for i in a if i % 2 != 0]\n",
    "print(l2)\n"
   ]
  },
  {
   "cell_type": "code",
   "execution_count": null,
   "metadata": {},
   "outputs": [],
   "source": [
    "d = {\n",
    "    \"rahul\" : 82,\n",
    "    \"gopal\" : 89,\n",
    "    \"salman\" : 90,\n",
    "    \"gaurav\" : 80\n",
    "}\n",
    "\n",
    "l = {}\n",
    "for i in d.keys():\n",
    "    if d[i] > 80:\n",
    "        l.update({i : d[i]})\n",
    "print(l)\n",
    "\n",
    "l2 = {i : d[i] for i in d.keys() if d[i] > 80}\n",
    "print(l2)"
   ]
  },
  {
   "cell_type": "code",
   "execution_count": null,
   "metadata": {},
   "outputs": [],
   "source": [
    "l = [1,2,3,4,1]\n",
    "s = set(l)\n",
    "print(l)\n",
    "print(s)"
   ]
  },
  {
   "cell_type": "code",
   "execution_count": null,
   "metadata": {},
   "outputs": [],
   "source": [
    "b = {3,4,5,6}\n",
    "a = {1,2,3,4, 'c',1.11}\n",
    "s2 = a & b\n",
    "s2 = a.intersection(b)\n",
    "print(s2)\n",
    "\n",
    "s4 = a | b \n",
    "s4 = a.union(b)\n",
    "print(s4)\n",
    "\n",
    "s5 = a - b \n",
    "print(s5)\n",
    "\n",
    "c = {1,2}\n",
    "d = {1,2,3,4}\n",
    "\n",
    "c <= d \n",
    "c.issubset(d)\n"
   ]
  },
  {
   "cell_type": "markdown",
   "metadata": {},
   "source": [
    "### todo \n",
    " - symmetric_difference \n",
    " - isdisjoint "
   ]
  },
  {
   "cell_type": "code",
   "execution_count": null,
   "metadata": {},
   "outputs": [],
   "source": [
    "s = {1,2,2,3,4}\n",
    "s.add(1000)\n",
    "print(s)"
   ]
  },
  {
   "cell_type": "code",
   "execution_count": null,
   "metadata": {},
   "outputs": [],
   "source": [
    "s.remove(1000)\n",
    "print(s)"
   ]
  },
  {
   "cell_type": "code",
   "execution_count": null,
   "metadata": {},
   "outputs": [],
   "source": [
    "s.discard(3)\n",
    "print(s)"
   ]
  },
  {
   "cell_type": "code",
   "execution_count": null,
   "metadata": {},
   "outputs": [],
   "source": [
    "fs = frozenset({1,2,34})\n",
    "fs.add(1000)\n",
    "print(fs)"
   ]
  }
 ],
 "metadata": {
  "interpreter": {
   "hash": "916dbcbb3f70747c44a77c7bcd40155683ae19c65e1c03b4aa3499c5328201f1"
  },
  "kernelspec": {
   "display_name": "Python 3.9.7 64-bit",
   "language": "python",
   "name": "python3"
  },
  "language_info": {
   "codemirror_mode": {
    "name": "ipython",
    "version": 3
   },
   "file_extension": ".py",
   "mimetype": "text/x-python",
   "name": "python",
   "nbconvert_exporter": "python",
   "pygments_lexer": "ipython3",
   "version": "3.8.10"
  },
  "orig_nbformat": 4
 },
 "nbformat": 4,
 "nbformat_minor": 2
}
